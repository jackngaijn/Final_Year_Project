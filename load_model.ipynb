{
 "cells": [
  {
   "cell_type": "code",
   "execution_count": 2,
   "metadata": {},
   "outputs": [
    {
     "name": "stderr",
     "output_type": "stream",
     "text": [
      "/var/folders/yf/pd4pg04s1qxdclcccwlbss6r0000gn/T/ipykernel_42721/1684275596.py:2: FutureWarning: You are using `torch.load` with `weights_only=False` (the current default value), which uses the default pickle module implicitly. It is possible to construct malicious pickle data which will execute arbitrary code during unpickling (See https://github.com/pytorch/pytorch/blob/main/SECURITY.md#untrusted-models for more details). In a future release, the default value for `weights_only` will be flipped to `True`. This limits the functions that could be executed during unpickling. Arbitrary objects will no longer be allowed to be loaded via this mode unless they are explicitly allowlisted by the user via `torch.serialization.add_safe_globals`. We recommend you start setting `weights_only=True` for any use case where you don't have full control of the loaded file. Please open an issue on GitHub for any issues related to this experimental feature.\n",
      "  checkpoint = torch.load(\"rnn_encoder_decoder_attention.pth\", map_location=torch.device('cpu'))\n"
     ]
    }
   ],
   "source": [
    "import torch\n",
    "checkpoint = torch.load(\"rnn_encoder_decoder_attention.pth\", map_location=torch.device('cpu'))\n",
    "\n",
    "# Extract the specific parameter 'encoder.rnn.weight_hh_l0'\n",
    "weight_hh_l0 = checkpoint['encoder.rnn.weight_hh_l0']\n",
    "\n",
    "# Print or process the parameter\n",
    "print(\"encoder.rnn.weight_hh_l0:\")\n",
    "print(weight_hh_l0)"
   ]
  },
  {
   "cell_type": "code",
   "execution_count": 4,
   "metadata": {},
   "outputs": [
    {
     "name": "stdout",
     "output_type": "stream",
     "text": [
      "encoder.rnn.weight_hh_l0:\n",
      "tensor([[-0.1570, -0.0068,  0.0087,  ...,  0.0527,  0.0058, -0.0149],\n",
      "        [-0.0133,  0.0513,  0.1209,  ..., -0.0539,  0.1547, -0.0067],\n",
      "        [-0.0055,  0.1102, -0.1625,  ..., -0.0555, -0.0197, -0.0856],\n",
      "        ...,\n",
      "        [-0.0537,  0.1115, -0.0262,  ..., -0.0437,  0.0078,  0.1064],\n",
      "        [ 0.0285, -0.0014,  0.0887,  ..., -0.0401,  0.0585,  0.0434],\n",
      "        [ 0.0238, -0.0084,  0.0284,  ...,  0.0112, -0.0229, -0.2047]])\n"
     ]
    }
   ],
   "source": [
    "# Extract the specific parameter 'encoder.rnn.weight_hh_l0'\n",
    "weight_hh_l0 = checkpoint['encoder.rnn.weight_hh_l0']\n",
    "\n",
    "# Print or process the parameter\n",
    "print(\"encoder.rnn.weight_hh_l0:\")\n",
    "print(weight_hh_l0)"
   ]
  },
  {
   "cell_type": "code",
   "execution_count": null,
   "metadata": {},
   "outputs": [],
   "source": []
  }
 ],
 "metadata": {
  "kernelspec": {
   "display_name": "FYP2",
   "language": "python",
   "name": "python3"
  },
  "language_info": {
   "codemirror_mode": {
    "name": "ipython",
    "version": 3
   },
   "file_extension": ".py",
   "mimetype": "text/x-python",
   "name": "python",
   "nbconvert_exporter": "python",
   "pygments_lexer": "ipython3",
   "version": "3.10.16"
  },
  "orig_nbformat": 4
 },
 "nbformat": 4,
 "nbformat_minor": 2
}
